{
 "cells": [
  {
   "cell_type": "markdown",
   "metadata": {},
   "source": [
    "# Assignment on Pandas"
   ]
  },
  {
   "cell_type": "code",
   "execution_count": 1,
   "metadata": {},
   "outputs": [],
   "source": [
    "import numpy as np\n",
    "import pandas as pd"
   ]
  },
  {
   "cell_type": "code",
   "execution_count": 2,
   "metadata": {},
   "outputs": [],
   "source": [
    "# Generate a 5x4 array of random numbers between 0 and 100\n",
    "np.random.seed(42)  # For reproducibility\n",
    "random_array = np.random.randint(0, 100, size=(5, 4))"
   ]
  },
  {
   "cell_type": "code",
   "execution_count": 3,
   "metadata": {},
   "outputs": [],
   "source": [
    "# Convert to DataFrame with custom row and column names\n",
    "df = pd.DataFrame(random_array, columns=['A', 'B', 'C', 'D'], index=['V', 'W', 'X', 'Y', 'Z'])"
   ]
  },
  {
   "cell_type": "code",
   "execution_count": 7,
   "metadata": {},
   "outputs": [
    {
     "name": "stdout",
     "output_type": "stream",
     "text": [
      "[[51 92 14 71]\n",
      " [60 20 82 86]\n",
      " [74 74 87 99]\n",
      " [23  2 21 52]\n",
      " [ 1 87 29 37]] \n",
      "     A   B   C   D\n",
      "V  51  92  14  71\n",
      "W  60  20  82  86\n",
      "X  74  74  87  99\n",
      "Y  23   2  21  52\n",
      "Z   1  87  29  37\n"
     ]
    }
   ],
   "source": [
    "print(random_array,\"\\n\",df)"
   ]
  },
  {
   "cell_type": "code",
   "execution_count": 8,
   "metadata": {},
   "outputs": [
    {
     "name": "stdout",
     "output_type": "stream",
     "text": [
      "    A   B   C   D\n",
      "W  60  20  82  86\n",
      "X  74  74  87  99\n",
      "Y  23   2  21  52\n"
     ]
    }
   ],
   "source": [
    "# Select rows 'W' to 'Y'\n",
    "print(df.loc['W':'Y'])\n"
   ]
  },
  {
   "cell_type": "code",
   "execution_count": 9,
   "metadata": {},
   "outputs": [
    {
     "name": "stdout",
     "output_type": "stream",
     "text": [
      "    A   B   C   D\n",
      "V  51  92  14  71\n",
      "W  60  20  82  86\n",
      "X  74  74  87  99\n"
     ]
    }
   ],
   "source": [
    "# Select first 3 rows\n",
    "print(df.iloc[:3])\n"
   ]
  },
  {
   "cell_type": "code",
   "execution_count": 10,
   "metadata": {},
   "outputs": [
    {
     "name": "stdout",
     "output_type": "stream",
     "text": [
      "    A   C\n",
      "V  51  14\n",
      "W  60  82\n",
      "X  74  87\n",
      "Y  23  21\n",
      "Z   1  29\n"
     ]
    }
   ],
   "source": [
    "# Select columns 'A' and 'C'\n",
    "print(df[['A', 'C']])\n"
   ]
  },
  {
   "cell_type": "markdown",
   "metadata": {},
   "source": [
    "# Selecting Specific Rows and Columns"
   ]
  },
  {
   "cell_type": "code",
   "execution_count": 11,
   "metadata": {},
   "outputs": [
    {
     "name": "stdout",
     "output_type": "stream",
     "text": [
      "    B   D\n",
      "W  20  86\n",
      "X  74  99\n",
      "Y   2  52\n"
     ]
    }
   ],
   "source": [
    "# Select rows 'W' to 'Y' and columns 'B' and 'D'\n",
    "print(df.loc['W':'Y', ['B', 'D']])"
   ]
  },
  {
   "cell_type": "code",
   "execution_count": 12,
   "metadata": {},
   "outputs": [
    {
     "name": "stdout",
     "output_type": "stream",
     "text": [
      "    A   B\n",
      "V  51  92\n",
      "W  60  20\n",
      "X  74  74\n"
     ]
    }
   ],
   "source": [
    "# Select first 3 rows and first 2 columns\n",
    "print(df.iloc[:3, :2])"
   ]
  },
  {
   "cell_type": "markdown",
   "metadata": {},
   "source": [
    "# Conditional Slicing"
   ]
  },
  {
   "cell_type": "code",
   "execution_count": 13,
   "metadata": {},
   "outputs": [
    {
     "name": "stdout",
     "output_type": "stream",
     "text": [
      "    A   B   C   D\n",
      "V  51  92  14  71\n",
      "W  60  20  82  86\n",
      "X  74  74  87  99\n"
     ]
    }
   ],
   "source": [
    "# Select rows where column 'A' values are greater than 50\n",
    "print(df[df['A'] > 50])"
   ]
  },
  {
   "cell_type": "code",
   "execution_count": 14,
   "metadata": {},
   "outputs": [
    {
     "name": "stdout",
     "output_type": "stream",
     "text": [
      "    A   B   C   D\n",
      "V  51  92  14  71\n",
      "Y  23   2  21  52\n",
      "Z   1  87  29  37\n"
     ]
    }
   ],
   "source": [
    "# Select rows where column 'C' values are less than 30\n",
    "print(df[df['C'] < 30])\n"
   ]
  },
  {
   "cell_type": "markdown",
   "metadata": {},
   "source": [
    "# Dropping a Row"
   ]
  },
  {
   "cell_type": "code",
   "execution_count": 15,
   "metadata": {},
   "outputs": [],
   "source": [
    "# Drop row 'X'\n",
    "df_dropped_row = df.drop(index='X')\n"
   ]
  },
  {
   "cell_type": "code",
   "execution_count": 16,
   "metadata": {},
   "outputs": [
    {
     "name": "stdout",
     "output_type": "stream",
     "text": [
      "    A   B   C   D\n",
      "V  51  92  14  71\n",
      "W  60  20  82  86\n",
      "Y  23   2  21  52\n",
      "Z   1  87  29  37\n"
     ]
    }
   ],
   "source": [
    "# Display DataFrame after dropping row\n",
    "print(df_dropped_row)\n"
   ]
  },
  {
   "cell_type": "markdown",
   "metadata": {},
   "source": [
    "# Note: This does not modify the original DataFrame unless inplace=True."
   ]
  },
  {
   "cell_type": "markdown",
   "metadata": {},
   "source": [
    "# Dropping Multiple Rows"
   ]
  },
  {
   "cell_type": "code",
   "execution_count": 17,
   "metadata": {},
   "outputs": [
    {
     "name": "stdout",
     "output_type": "stream",
     "text": [
      "    A   B   C   D\n",
      "V  51  92  14  71\n",
      "X  74  74  87  99\n",
      "Z   1  87  29  37\n"
     ]
    }
   ],
   "source": [
    "# Drop rows 'W' and 'Y'\n",
    "df_dropped_rows = df.drop(index=['W', 'Y'])\n",
    "print(df_dropped_rows)\n"
   ]
  },
  {
   "cell_type": "markdown",
   "metadata": {},
   "source": [
    "# Dropping a Column"
   ]
  },
  {
   "cell_type": "code",
   "execution_count": 18,
   "metadata": {},
   "outputs": [
    {
     "name": "stdout",
     "output_type": "stream",
     "text": [
      "    A   B   D\n",
      "V  51  92  71\n",
      "W  60  20  86\n",
      "X  74  74  99\n",
      "Y  23   2  52\n",
      "Z   1  87  37\n"
     ]
    }
   ],
   "source": [
    "# Drop column 'C'\n",
    "df_dropped_col = df.drop(columns='C')\n",
    "print(df_dropped_col)\n"
   ]
  },
  {
   "cell_type": "markdown",
   "metadata": {},
   "source": [
    "# Dropping Multiple Columns"
   ]
  },
  {
   "cell_type": "code",
   "execution_count": 19,
   "metadata": {},
   "outputs": [
    {
     "name": "stdout",
     "output_type": "stream",
     "text": [
      "    B   C\n",
      "V  92  14\n",
      "W  20  82\n",
      "X  74  87\n",
      "Y   2  21\n",
      "Z  87  29\n"
     ]
    }
   ],
   "source": [
    "# Drop columns 'A' and 'D'\n",
    "df_dropped_cols = df.drop(columns=['A', 'D'])\n",
    "print(df_dropped_cols)\n"
   ]
  },
  {
   "cell_type": "markdown",
   "metadata": {},
   "source": [
    "# Dropping Rows/Columns In-Place\n",
    "\n",
    "## If you want to modify the original DataFrame directly, use inplace=True:\n"
   ]
  },
  {
   "cell_type": "code",
   "execution_count": 20,
   "metadata": {},
   "outputs": [],
   "source": [
    "# Drop row 'X' permanently\n",
    "df.drop(index='X', inplace=True)\n"
   ]
  },
  {
   "cell_type": "code",
   "execution_count": 21,
   "metadata": {},
   "outputs": [],
   "source": [
    "# Drop column 'C' permanently\n",
    "df.drop(columns='C', inplace=True)\n"
   ]
  },
  {
   "cell_type": "code",
   "execution_count": 22,
   "metadata": {},
   "outputs": [
    {
     "name": "stdout",
     "output_type": "stream",
     "text": [
      "    A   B   D\n",
      "V  51  92  71\n",
      "W  60  20  86\n",
      "Y  23   2  52\n",
      "Z   1  87  37\n"
     ]
    }
   ],
   "source": [
    "print(df)"
   ]
  },
  {
   "cell_type": "code",
   "execution_count": 27,
   "metadata": {},
   "outputs": [],
   "source": [
    "# Adding a new column first\n",
    "df['F'] = [5, 10, 15, 20]"
   ]
  },
  {
   "cell_type": "code",
   "execution_count": 31,
   "metadata": {},
   "outputs": [],
   "source": [
    "# Adding a new row that includes the new column\n",
    "df.loc['Extra'] = [55, 65, 75, 85] \n"
   ]
  },
  {
   "cell_type": "code",
   "execution_count": 32,
   "metadata": {},
   "outputs": [
    {
     "name": "stdout",
     "output_type": "stream",
     "text": [
      "        A   B   D   F\n",
      "V      51  92  71   5\n",
      "W      60  20  86  10\n",
      "Y      23   2  52  15\n",
      "Z       1  87  37  20\n",
      "Extra  55  65  75  85\n"
     ]
    }
   ],
   "source": [
    "print(df)"
   ]
  },
  {
   "cell_type": "code",
   "execution_count": null,
   "metadata": {},
   "outputs": [],
   "source": []
  }
 ],
 "metadata": {
  "kernelspec": {
   "display_name": "Python 3",
   "language": "python",
   "name": "python3"
  },
  "language_info": {
   "codemirror_mode": {
    "name": "ipython",
    "version": 3
   },
   "file_extension": ".py",
   "mimetype": "text/x-python",
   "name": "python",
   "nbconvert_exporter": "python",
   "pygments_lexer": "ipython3",
   "version": "3.6.5"
  }
 },
 "nbformat": 4,
 "nbformat_minor": 2
}
